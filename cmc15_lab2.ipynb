{
 "cells": [
  {
   "cell_type": "markdown",
   "metadata": {},
   "source": [
    "# CMC-15 - Lab 02 \n",
    "## Aprendizado de máquina probabilístico\n",
    "\n",
    "Importando pacotes:"
   ]
  },
  {
   "cell_type": "code",
   "execution_count": 1,
   "metadata": {},
   "outputs": [],
   "source": [
    "import numpy as np\n",
    "import pandas as pd\n",
    "import matplotlib.pyplot as plt\n",
    "from sklearn.model_selection import train_test_split"
   ]
  },
  {
   "cell_type": "markdown",
   "metadata": {},
   "source": [
    "Carregamos o `train_test_split` do SciKit Learn para facilitar a seleção de dados para treino e teste.\n",
    "\n",
    "Carregando os dados:"
   ]
  },
  {
   "cell_type": "code",
   "execution_count": 2,
   "metadata": {},
   "outputs": [
    {
     "data": {
      "text/html": [
       "<div>\n",
       "<style scoped>\n",
       "    .dataframe tbody tr th:only-of-type {\n",
       "        vertical-align: middle;\n",
       "    }\n",
       "\n",
       "    .dataframe tbody tr th {\n",
       "        vertical-align: top;\n",
       "    }\n",
       "\n",
       "    .dataframe thead th {\n",
       "        text-align: right;\n",
       "    }\n",
       "</style>\n",
       "<table border=\"1\" class=\"dataframe\">\n",
       "  <thead>\n",
       "    <tr style=\"text-align: right;\">\n",
       "      <th></th>\n",
       "      <th>handicapped-infants</th>\n",
       "      <th>water-project-cost-sharing</th>\n",
       "      <th>adoption-of-the-budget-resolution</th>\n",
       "      <th>physician-fee-freeze</th>\n",
       "      <th>religious-groups-in-schools</th>\n",
       "      <th>anti-satellite-test-ban</th>\n",
       "      <th>mx-missile</th>\n",
       "      <th>immigration</th>\n",
       "      <th>synfuels-corporation-cutback</th>\n",
       "      <th>education-spending</th>\n",
       "      <th>superfund-right-to-sue</th>\n",
       "      <th>crime</th>\n",
       "      <th>duty-free-exports</th>\n",
       "      <th>export-administration-act-south-africa</th>\n",
       "      <th>Target</th>\n",
       "    </tr>\n",
       "  </thead>\n",
       "  <tbody>\n",
       "    <tr>\n",
       "      <th>0</th>\n",
       "      <td>n</td>\n",
       "      <td>y</td>\n",
       "      <td>n</td>\n",
       "      <td>y</td>\n",
       "      <td>y</td>\n",
       "      <td>n</td>\n",
       "      <td>n</td>\n",
       "      <td>y</td>\n",
       "      <td>?</td>\n",
       "      <td>y</td>\n",
       "      <td>y</td>\n",
       "      <td>y</td>\n",
       "      <td>n</td>\n",
       "      <td>y</td>\n",
       "      <td>republican</td>\n",
       "    </tr>\n",
       "    <tr>\n",
       "      <th>1</th>\n",
       "      <td>n</td>\n",
       "      <td>y</td>\n",
       "      <td>n</td>\n",
       "      <td>y</td>\n",
       "      <td>y</td>\n",
       "      <td>n</td>\n",
       "      <td>n</td>\n",
       "      <td>n</td>\n",
       "      <td>n</td>\n",
       "      <td>y</td>\n",
       "      <td>y</td>\n",
       "      <td>y</td>\n",
       "      <td>n</td>\n",
       "      <td>?</td>\n",
       "      <td>republican</td>\n",
       "    </tr>\n",
       "    <tr>\n",
       "      <th>2</th>\n",
       "      <td>?</td>\n",
       "      <td>y</td>\n",
       "      <td>y</td>\n",
       "      <td>?</td>\n",
       "      <td>y</td>\n",
       "      <td>n</td>\n",
       "      <td>n</td>\n",
       "      <td>n</td>\n",
       "      <td>y</td>\n",
       "      <td>n</td>\n",
       "      <td>y</td>\n",
       "      <td>y</td>\n",
       "      <td>n</td>\n",
       "      <td>n</td>\n",
       "      <td>democrat</td>\n",
       "    </tr>\n",
       "    <tr>\n",
       "      <th>3</th>\n",
       "      <td>n</td>\n",
       "      <td>y</td>\n",
       "      <td>y</td>\n",
       "      <td>n</td>\n",
       "      <td>y</td>\n",
       "      <td>n</td>\n",
       "      <td>n</td>\n",
       "      <td>n</td>\n",
       "      <td>y</td>\n",
       "      <td>n</td>\n",
       "      <td>y</td>\n",
       "      <td>n</td>\n",
       "      <td>n</td>\n",
       "      <td>y</td>\n",
       "      <td>democrat</td>\n",
       "    </tr>\n",
       "    <tr>\n",
       "      <th>4</th>\n",
       "      <td>y</td>\n",
       "      <td>y</td>\n",
       "      <td>y</td>\n",
       "      <td>n</td>\n",
       "      <td>y</td>\n",
       "      <td>n</td>\n",
       "      <td>n</td>\n",
       "      <td>n</td>\n",
       "      <td>y</td>\n",
       "      <td>?</td>\n",
       "      <td>y</td>\n",
       "      <td>y</td>\n",
       "      <td>y</td>\n",
       "      <td>y</td>\n",
       "      <td>democrat</td>\n",
       "    </tr>\n",
       "  </tbody>\n",
       "</table>\n",
       "</div>"
      ],
      "text/plain": [
       "  handicapped-infants water-project-cost-sharing  \\\n",
       "0                   n                          y   \n",
       "1                   n                          y   \n",
       "2                   ?                          y   \n",
       "3                   n                          y   \n",
       "4                   y                          y   \n",
       "\n",
       "  adoption-of-the-budget-resolution physician-fee-freeze  \\\n",
       "0                                 n                    y   \n",
       "1                                 n                    y   \n",
       "2                                 y                    ?   \n",
       "3                                 y                    n   \n",
       "4                                 y                    n   \n",
       "\n",
       "  religious-groups-in-schools anti-satellite-test-ban mx-missile immigration  \\\n",
       "0                           y                       n          n           y   \n",
       "1                           y                       n          n           n   \n",
       "2                           y                       n          n           n   \n",
       "3                           y                       n          n           n   \n",
       "4                           y                       n          n           n   \n",
       "\n",
       "  synfuels-corporation-cutback education-spending superfund-right-to-sue  \\\n",
       "0                            ?                  y                      y   \n",
       "1                            n                  y                      y   \n",
       "2                            y                  n                      y   \n",
       "3                            y                  n                      y   \n",
       "4                            y                  ?                      y   \n",
       "\n",
       "  crime duty-free-exports export-administration-act-south-africa      Target  \n",
       "0     y                 n                                      y  republican  \n",
       "1     y                 n                                      ?  republican  \n",
       "2     y                 n                                      n    democrat  \n",
       "3     n                 n                                      y    democrat  \n",
       "4     y                 y                                      y    democrat  "
      ]
     },
     "execution_count": 2,
     "metadata": {},
     "output_type": "execute_result"
    }
   ],
   "source": [
    "df = pd.read_csv('republican_democrat.csv')\n",
    "df.head()"
   ]
  },
  {
   "cell_type": "markdown",
   "metadata": {},
   "source": [
    "Separando o output dos inputs:"
   ]
  },
  {
   "cell_type": "code",
   "execution_count": 3,
   "metadata": {},
   "outputs": [],
   "source": [
    "X = df.drop(columns=['Target'])\n",
    "Y = df['Target']"
   ]
  },
  {
   "cell_type": "markdown",
   "metadata": {},
   "source": [
    "Separando treino e teste:"
   ]
  },
  {
   "cell_type": "code",
   "execution_count": 4,
   "metadata": {},
   "outputs": [],
   "source": [
    "from typing import Tuple\n",
    "\n",
    "\n",
    "xtrain: pd.DataFrame\n",
    "xtest: pd.DataFrame\n",
    "ytrain: pd.Series\n",
    "ytest: pd.Series\n",
    "(xtrain, xtest, ytrain, ytest) = train_test_split(X, Y, test_size=0.2)"
   ]
  },
  {
   "cell_type": "markdown",
   "metadata": {},
   "source": [
    "Com a preparação de dados para a árvore feita, vamos criar os classificadores."
   ]
  },
  {
   "cell_type": "markdown",
   "metadata": {},
   "source": [
    "### 2.1 Classificador de árvore de decisão por ID3\n",
    "\n",
    "Primeiramente vamos calcular a entropia:"
   ]
  },
  {
   "cell_type": "code",
   "execution_count": 5,
   "metadata": {},
   "outputs": [],
   "source": [
    "from typing import List\n",
    "\n",
    "\n",
    "def calculate_entropy(data: pd.DataFrame, label: str, label_values: List[str]) -> float:\n",
    "    \"\"\"\n",
    "    :param data: DataFrame with data\n",
    "    :param label: the name of the output label\n",
    "\n",
    "    :return entropy: the entropy of the data\n",
    "    \"\"\"\n",
    "    rows = data.shape[0]\n",
    "    entropy = 0.0\n",
    "\n",
    "    for val in label_values:\n",
    "        rows_val = data[data[label] == val].shape[0]\n",
    "        entropy_val = 0\n",
    "        if rows_val != 0:\n",
    "            frac = rows_val / rows\n",
    "            entropy_val = - frac * np.log2(frac)\n",
    "        entropy += entropy_val\n",
    "\n",
    "    return entropy\n"
   ]
  },
  {
   "cell_type": "code",
   "execution_count": 6,
   "metadata": {},
   "outputs": [
    {
     "data": {
      "text/plain": [
       "0.9585509783913739"
      ]
     },
     "execution_count": 6,
     "metadata": {},
     "output_type": "execute_result"
    }
   ],
   "source": [
    "# total entropy\n",
    "calculate_entropy(df, 'Target', df['Target'].unique().tolist())"
   ]
  },
  {
   "cell_type": "markdown",
   "metadata": {},
   "source": [
    "Calculando o ganho de informação:"
   ]
  },
  {
   "cell_type": "code",
   "execution_count": 7,
   "metadata": {},
   "outputs": [],
   "source": [
    "def calculate_info_gain(data: pd.DataFrame, label: str, feature_name: str, label_values: List[str]):\n",
    "    feature_val_list: List[str] = data[feature_name].unique().tolist()\n",
    "    rows = data.shape[0]\n",
    "    feature_info = 0.0\n",
    "\n",
    "    for val in feature_val_list:\n",
    "        feature_value_data = data[data[feature_name] == val]\n",
    "        feature_value_rows = feature_value_data.shape[0]\n",
    "        feature_value_entropy = calculate_entropy(feature_value_data, label, label_values)\n",
    "        prob = feature_value_rows / rows\n",
    "        feature_info += prob * feature_value_entropy\n",
    "    \n",
    "    return calculate_entropy(data, label, label_values) - feature_info"
   ]
  },
  {
   "cell_type": "code",
   "execution_count": 8,
   "metadata": {},
   "outputs": [
    {
     "data": {
      "text/plain": [
       "0.13714796724872425"
      ]
     },
     "execution_count": 8,
     "metadata": {},
     "output_type": "execute_result"
    }
   ],
   "source": [
    "# for 'handicapped-infants'\n",
    "calculate_info_gain(df, 'Target', 'handicapped-infants', df['Target'].unique().tolist())"
   ]
  },
  {
   "cell_type": "markdown",
   "metadata": {},
   "source": [
    "Encontrando a *feature* com maior ganho:"
   ]
  },
  {
   "cell_type": "code",
   "execution_count": 9,
   "metadata": {},
   "outputs": [],
   "source": [
    "def most_informative_feature(data: pd.DataFrame, label: str, label_values: List[str]):\n",
    "    feature_list = data.columns.drop(label).to_list()\n",
    "    max_info_gain = -1\n",
    "    max_info_feature = None\n",
    "\n",
    "    for feature in feature_list:\n",
    "        feature_info_gain = calculate_info_gain(data, label, feature, label_values)\n",
    "        if feature_info_gain > max_info_gain:\n",
    "            max_info_gain = feature_info_gain\n",
    "            max_info_feature = feature\n",
    "\n",
    "    return max_info_feature"
   ]
  },
  {
   "cell_type": "code",
   "execution_count": 10,
   "metadata": {},
   "outputs": [
    {
     "data": {
      "text/plain": [
       "'physician-fee-freeze'"
      ]
     },
     "execution_count": 10,
     "metadata": {},
     "output_type": "execute_result"
    }
   ],
   "source": [
    "most_informative_feature(df, 'Target', df['Target'].unique().tolist())"
   ]
  },
  {
   "cell_type": "markdown",
   "metadata": {},
   "source": [
    "Gerando uma sub-árvore:"
   ]
  },
  {
   "cell_type": "code",
   "execution_count": 11,
   "metadata": {},
   "outputs": [],
   "source": [
    "def generate_sub_tree(data: pd.DataFrame, label: str, label_values: List[str], feature_name: str):\n",
    "    feature_value_counts = data[feature_name].value_counts(sort=False)\n",
    "    tree = {}\n",
    "\n",
    "    for val, count in feature_value_counts.iteritems():\n",
    "        feature_value_data = data[data[feature_name] == val]\n",
    "        assigned_to_node = False\n",
    "        for label_val in label_values:\n",
    "            rows = feature_value_data[feature_value_data[label] == label_val].shape[0]\n",
    "            if rows == count:\n",
    "                tree[val] = label_val\n",
    "                data = data[data[feature_name] != val]\n",
    "                assigned_to_node = True\n",
    "        if not assigned_to_node:\n",
    "            tree[val] = \"expand\"\n",
    "\n",
    "    return tree, data\n"
   ]
  },
  {
   "cell_type": "markdown",
   "metadata": {},
   "source": [
    "Agora, o algoritmo ID3 é combinar os passos anteriores:\n",
    "\n",
    "- encontrar a *feature* com maior ganho de informação\n",
    "- fazer um nó da árvore com o nome da *feature* e os seus valores como galhos\n",
    "  - se for uma classe pura, adicionar *as-is*\n",
    "  - se não, adicionar um nó que será expandido posteriormente\n",
    "- diminuir o dataset a partir das classes puras\n",
    "- adicionar o nó com galhos para uma árvore\n",
    "- expandir o galho da próxima classe impura com o dataset atualizado\n",
    "\n",
    "Ao final, o dataset será esvaziado (não o original, somente uma cópia dele) e não haverá galhos a serem expandidos (sem `\"?\"`)"
   ]
  },
  {
   "cell_type": "code",
   "execution_count": 12,
   "metadata": {},
   "outputs": [],
   "source": [
    "def make_tree(root: dict, prev_feature_value, data: pd.DataFrame, label: str, label_values: List[str]):\n",
    "    if data.shape[0] != 0:\n",
    "        max_info_feature = most_informative_feature(data, label, label_values)\n",
    "        tree, new_data = generate_sub_tree(data, label, label_values, max_info_feature)\n",
    "        next_root = None\n",
    "\n",
    "        if prev_feature_value != None:\n",
    "            root[prev_feature_value] = {}\n",
    "            root[prev_feature_value][max_info_feature] = tree\n",
    "            next_root: dict = root[prev_feature_value][max_info_feature]\n",
    "        else:\n",
    "            root[max_info_feature] = tree\n",
    "            next_root: dict = root[max_info_feature]\n",
    "        \n",
    "        for node, branch in list(next_root.items()):\n",
    "            if branch == \"expand\":\n",
    "                feature_value_data = new_data[new_data[max_info_feature] == node]\n",
    "                make_tree(next_root, node, feature_value_data, label, label_values)"
   ]
  },
  {
   "cell_type": "code",
   "execution_count": 13,
   "metadata": {},
   "outputs": [],
   "source": [
    "def id3(data: pd.DataFrame, label: str):\n",
    "    data_cpy = data.copy()\n",
    "    tree = {}\n",
    "    label_values: List[str] = data_cpy[label].unique().tolist()\n",
    "    make_tree(tree, None, data_cpy, label, label_values)\n",
    "    return tree"
   ]
  },
  {
   "cell_type": "code",
   "execution_count": 14,
   "metadata": {},
   "outputs": [],
   "source": [
    "df_train = pd.concat([xtrain, ytrain], axis=1)\n",
    "tree = id3(df_train, 'Target')"
   ]
  },
  {
   "cell_type": "markdown",
   "metadata": {},
   "source": [
    "Visualizando a árvore como um objeto JSON (mais visível).\n",
    "\n",
    "Pode ser que todas as linhas não apareçam no print, então salvamos para visualização onde for mais conveniente."
   ]
  },
  {
   "cell_type": "code",
   "execution_count": 15,
   "metadata": {},
   "outputs": [
    {
     "name": "stdout",
     "output_type": "stream",
     "text": [
      "{\n",
      "    \"physician-fee-freeze\": {\n",
      "        \"y\": {\n",
      "            \"synfuels-corporation-cutback\": {\n",
      "                \"n\": {\n",
      "                    \"duty-free-exports\": {\n",
      "                        \"n\": {\n",
      "                            \"adoption-of-the-budget-resolution\": {\n",
      "                                \"y\": {\n",
      "                                    \"export-administration-act-south-africa\": {\n",
      "                                        \"y\": \"republican\",\n",
      "                                        \"?\": {\n",
      "                                            \"handicapped-infants\": {\n",
      "                                                \"n\": \"democrat\",\n",
      "                                                \"y\": \"republican\"\n",
      "                                            }\n",
      "                                        }\n",
      "                                    }\n",
      "                                },\n",
      "                                \"n\": \"republican\"\n",
      "                            }\n",
      "                        },\n",
      "                        \"y\": {\n",
      "                            \"immigration\": {\n",
      "                                \"y\": \"republican\",\n",
      "                                \"n\": {\n",
      "                                    \"export-administration-act-south-africa\": {\n",
      "                                        \"y\": \"democrat\",\n",
      "                                        \"?\": {\n",
      "                                            \"water-project-cost-sharing\": {\n",
      "                                                \"y\": \"republican\",\n",
      "                                                \"n\": \"democrat\"\n",
      "                                            }\n",
      "                                        },\n",
      "                                        \"n\": \"republican\"\n",
      "                                    }\n",
      "                                }\n",
      "                            }\n",
      "                        },\n",
      "                        \"?\": \"republican\"\n",
      "                    }\n",
      "                },\n",
      "                \"?\": \"republican\",\n",
      "                \"y\": {\n",
      "                    \"adoption-of-the-budget-resolution\": {\n",
      "                        \"n\": {\n",
      "                            \"immigration\": {\n",
      "                                \"n\": {\n",
      "                                    \"mx-missile\": {\n",
      "                                        \"y\": \"democrat\",\n",
      "                                        \"n\": {\n",
      "                                            \"export-administration-act-south-africa\": {\n",
      "                                                \"y\": \"republican\",\n",
      "                                                \"?\": {\n",
      "                                                    \"handicapped-infants\": {\n",
      "                                                        \"y\": \"democrat\",\n",
      "                                                        \"n\": \"republican\"\n",
      "                                                    }\n",
      "                                                },\n",
      "                                                \"n\": {\n",
      "                                                    \"handicapped-infants\": {\n",
      "                                                        \"y\": \"republican\",\n",
      "                                                        \"n\": \"democrat\"\n",
      "                                                    }\n",
      "                                                }\n",
      "                                            }\n",
      "                                        }\n",
      "                                    }\n",
      "                                },\n",
      "                                \"y\": \"republican\"\n",
      "                            }\n",
      "                        },\n",
      "                        \"y\": {\n",
      "                            \"religious-groups-in-schools\": {\n",
      "                                \"y\": \"democrat\",\n",
      "                                \"n\": \"republican\"\n",
      "                            }\n",
      "                        },\n",
      "                        \"?\": \"democrat\"\n",
      "                    }\n",
      "                }\n",
      "            }\n",
      "        },\n",
      "        \"n\": \"democrat\",\n",
      "        \"?\": {\n",
      "            \"mx-missile\": {\n",
      "                \"y\": \"democrat\",\n",
      "                \"n\": \"democrat\",\n",
      "                \"?\": \"republican\"\n",
      "            }\n",
      "        }\n",
      "    }\n",
      "}\n"
     ]
    }
   ],
   "source": [
    "import json\n",
    "\n",
    "tree_json = json.dumps(tree, indent=4)\n",
    "print(tree_json)\n",
    "with open(\"tree.json\", \"w\") as file:\n",
    "    json.dump(tree, file, indent=4)"
   ]
  },
  {
   "cell_type": "markdown",
   "metadata": {},
   "source": [
    "Para a predição, precisa-se caminhar recursivamente na árvore:"
   ]
  },
  {
   "cell_type": "code",
   "execution_count": 16,
   "metadata": {},
   "outputs": [],
   "source": [
    "from typing import Any, Union\n",
    "\n",
    "\n",
    "def predict(row: pd.Series, tree: Union[dict, Any]):\n",
    "    if not isinstance(tree, dict):\n",
    "        return tree\n",
    "    else:\n",
    "        root_node = next(iter(tree))\n",
    "        feature_value = row[root_node]\n",
    "        if feature_value in tree[root_node]:\n",
    "            return predict(row, tree[root_node][feature_value])\n",
    "        else:\n",
    "            return None\n"
   ]
  },
  {
   "cell_type": "markdown",
   "metadata": {},
   "source": [
    "Um pequeno teste:"
   ]
  },
  {
   "cell_type": "code",
   "execution_count": 17,
   "metadata": {},
   "outputs": [
    {
     "data": {
      "text/plain": [
       "'republican'"
      ]
     },
     "execution_count": 17,
     "metadata": {},
     "output_type": "execute_result"
    }
   ],
   "source": [
    "predict(xtest.iloc[10], tree)"
   ]
  },
  {
   "cell_type": "code",
   "execution_count": 18,
   "metadata": {},
   "outputs": [
    {
     "data": {
      "text/plain": [
       "True"
      ]
     },
     "execution_count": 18,
     "metadata": {},
     "output_type": "execute_result"
    }
   ],
   "source": [
    "predict(xtest.iloc[10], tree) == ytest.iloc[10]"
   ]
  },
  {
   "cell_type": "markdown",
   "metadata": {},
   "source": [
    "Avaliando o modelo:"
   ]
  },
  {
   "cell_type": "code",
   "execution_count": 19,
   "metadata": {},
   "outputs": [],
   "source": [
    "from typing import Callable\n",
    "\n",
    "\n",
    "def evaluate(xtest: pd.DataFrame, ytest: pd.Series, predict_func: Callable, *args, **kwargs):\n",
    "    correct = 0\n",
    "    wrong = 0\n",
    "    results = []\n",
    "    for idx, _ in xtest.iterrows():\n",
    "        result = predict_func(xtest.loc[idx], *args, **kwargs)\n",
    "        results.append(result)\n",
    "        if result == ytest.loc[idx]:\n",
    "            correct += 1\n",
    "        else:\n",
    "            wrong += 1\n",
    "    accuracy = correct / (correct + wrong)\n",
    "    return accuracy, pd.Series(results, index=ytest.index)"
   ]
  },
  {
   "cell_type": "code",
   "execution_count": 20,
   "metadata": {},
   "outputs": [
    {
     "data": {
      "text/plain": [
       "0.927710843373494"
      ]
     },
     "execution_count": 20,
     "metadata": {},
     "output_type": "execute_result"
    }
   ],
   "source": [
    "accuracy_tree, results_tree = evaluate(xtest, ytest, predict, tree=tree)\n",
    "accuracy_tree"
   ]
  },
  {
   "cell_type": "markdown",
   "metadata": {},
   "source": [
    "### 2.2 Classificador a priori (moda dos valores de saída)\n",
    "\n",
    "Esse classificador é bem simples, ele só retorna a moda dos valores de treinamento:"
   ]
  },
  {
   "cell_type": "code",
   "execution_count": 21,
   "metadata": {},
   "outputs": [],
   "source": [
    "from typing import Callable\n",
    "\n",
    "\n",
    "def create_apriori(data: pd.Series) -> Callable:\n",
    "    return lambda: data.mode().iloc[0]"
   ]
  },
  {
   "cell_type": "code",
   "execution_count": 22,
   "metadata": {},
   "outputs": [
    {
     "data": {
      "text/plain": [
       "'democrat'"
      ]
     },
     "execution_count": 22,
     "metadata": {},
     "output_type": "execute_result"
    }
   ],
   "source": [
    "apriori = create_apriori(ytrain)\n",
    "\n",
    "apriori()"
   ]
  },
  {
   "cell_type": "markdown",
   "metadata": {},
   "source": [
    "Avaliando:"
   ]
  },
  {
   "cell_type": "code",
   "execution_count": 23,
   "metadata": {},
   "outputs": [
    {
     "data": {
      "text/plain": [
       "0.6626506024096386"
      ]
     },
     "execution_count": 23,
     "metadata": {},
     "output_type": "execute_result"
    }
   ],
   "source": [
    "predict_apriori = lambda _: apriori()\n",
    "accuracy_apriori, results_apriori = evaluate(xtest, ytest, predict_apriori)\n",
    "accuracy_apriori"
   ]
  },
  {
   "cell_type": "markdown",
   "metadata": {},
   "source": [
    "### 2.3 Comparação\n",
    "\n",
    "Utilizando o pacote `sklearn` para não necessitar da implementação das métricas do zero"
   ]
  },
  {
   "cell_type": "code",
   "execution_count": 26,
   "metadata": {},
   "outputs": [],
   "source": [
    "import sklearn.metrics as metrics"
   ]
  },
  {
   "cell_type": "markdown",
   "metadata": {},
   "source": [
    "**Nota: se der erro por NoneType, provavelmente houve uma divisão dos dados infeliz da função `train_test_split` que afetou o modelo. Rodar o notebook de novo pode ser necessário**"
   ]
  },
  {
   "cell_type": "code",
   "execution_count": 33,
   "metadata": {},
   "outputs": [
    {
     "data": {
      "image/png": "[encoded data removed]",
      "text/plain": [
       "<Figure size 640x480 with 2 Axes>"
      ]
     },
     "metadata": {},
     "output_type": "display_data"
    }
   ],
   "source": [
    "cm_tree = metrics.ConfusionMatrixDisplay.from_predictions(ytest, results_tree)\n",
    "cm_tree.figure_.savefig('CM_Tree.png')"
   ]
  },
  {
   "cell_type": "code",
   "execution_count": 34,
   "metadata": {},
   "outputs": [
    {
     "data": {
      "image/png": "[encoded data removed]",
      "text/plain": [
       "<Figure size 640x480 with 2 Axes>"
      ]
     },
     "metadata": {},
     "output_type": "display_data"
    }
   ],
   "source": [
    "cm_apriori = metrics.ConfusionMatrixDisplay.from_predictions(ytest, results_apriori)\n",
    "cm_apriori.figure_.savefig('CM_Apriori.png')"
   ]
  },
  {
   "cell_type": "markdown",
   "metadata": {},
   "source": [
    "Como é um problema de classificação, MSE não é recomendado.\n",
    "\n",
    "Para a estatística Kappa:"
   ]
  },
  {
   "cell_type": "code",
   "execution_count": 30,
   "metadata": {},
   "outputs": [
    {
     "data": {
      "text/plain": [
       "0.8293351610692254"
      ]
     },
     "execution_count": 30,
     "metadata": {},
     "output_type": "execute_result"
    }
   ],
   "source": [
    "metrics.cohen_kappa_score(ytest, results_tree)"
   ]
  },
  {
   "cell_type": "code",
   "execution_count": 31,
   "metadata": {},
   "outputs": [
    {
     "data": {
      "text/plain": [
       "0.0"
      ]
     },
     "execution_count": 31,
     "metadata": {},
     "output_type": "execute_result"
    }
   ],
   "source": [
    "metrics.cohen_kappa_score(ytest, results_apriori)"
   ]
  },
  {
   "cell_type": "markdown",
   "metadata": {},
   "source": [
    "Como esperado, o classificador *a priori* teve métricas piores, sendo a árvore de decisão melhor. Uma maneira de melhorar o classificador seria implementar uma estratégia bayesiana, a mais simples sendo o *naive Bayes*."
   ]
  }
 ],
 "metadata": {
  "kernelspec": {
   "display_name": "Python 3.8.13 ('algoritmica')",
   "language": "python",
   "name": "python3"
  },
  "language_info": {
   "codemirror_mode": {
    "name": "ipython",
    "version": 3
   },
   "file_extension": ".py",
   "mimetype": "text/x-python",
   "name": "python",
   "nbconvert_exporter": "python",
   "pygments_lexer": "ipython3",
   "version": "3.8.13"
  },
  "orig_nbformat": 4,
  "vscode": {
   "interpreter": {
    "hash": "8aef82b379db33f89e0a0b76f3847ae1027bdb49e32b32bc9ff8f7f3702830d5"
   }
  }
 },
 "nbformat": 4,
 "nbformat_minor": 2
}
